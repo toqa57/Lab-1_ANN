{
 "cells": [
  {
   "cell_type": "code",
   "execution_count": 1,
   "metadata": {},
   "outputs": [],
   "source": [
    "import numpy as np\n",
    "    "
   ]
  },
  {
   "cell_type": "code",
   "execution_count": 17,
   "metadata": {},
   "outputs": [],
   "source": [
    "def compute_weights_thresholds(conjunctions, n):\n",
    "    weights = [[2 if x > 0 else -2 if x < 0 else 0 for x in conj] for conj in conjunctions]\n",
    "    thresholds = [n - 1 + sum(w) // 2 for w in weights]\n",
    "    return weights, thresholds\n"
   ]
  },
  {
   "cell_type": "code",
   "execution_count": 24,
   "metadata": {},
   "outputs": [
    {
     "name": "stdout",
     "output_type": "stream",
     "text": [
      "Enter conjunctions as space-separated values (positive for direct, negative for negated, 0 for absent):\n"
     ]
    }
   ],
   "source": [
    "m = int(input(\"Enter number of conjunctions (m): \"))\n",
    "n = int(input(\"Enter number of input variables (n): \"))\n",
    "print(\"Enter conjunctions as space-separated values (positive for direct, negative for negated, 0 for absent):\")\n",
    "conjunctions = [list(map(int, input().split())) for _ in range(m)]"
   ]
  },
  {
   "cell_type": "code",
   "execution_count": 25,
   "metadata": {},
   "outputs": [],
   "source": [
    "weights, thresholds = compute_weights_thresholds(conjunctions, n) \n",
    "output_weights, output_threshold = [2] * m, 1"
   ]
  },
  {
   "cell_type": "code",
   "execution_count": 26,
   "metadata": {},
   "outputs": [
    {
     "name": "stdout",
     "output_type": "stream",
     "text": [
      "conjunction Neurons: \n",
      "Neuron 1: Weights = [2, -2, -2, 2], Threshold = 3\n",
      "Neuron 2: Weights = [], Threshold = 3\n",
      "Output Neuron:\n",
      "Weights = [2, 2], Threshold = 1\n"
     ]
    }
   ],
   "source": [
    "print(\"conjunction Neurons: \")\n",
    "for i, (w, t) in enumerate(zip(weights, thresholds), 1):\n",
    "    print(f\"Neuron {i}: Weights = {w}, Threshold = {t}\")\n",
    "\n",
    "print(\"Output Neuron:\")\n",
    "print(f\"Weights = {output_weights}, Threshold = {output_threshold}\")"
   ]
  },
  {
   "cell_type": "code",
   "execution_count": 27,
   "metadata": {},
   "outputs": [],
   "source": [
    "example_conjunctions = [[1, -2, 3], [-1, 0, 3]]\n",
    "weights_ex, thresholds_ex = compute_weights_thresholds(example_conjunctions, 3)"
   ]
  },
  {
   "cell_type": "code",
   "execution_count": 28,
   "metadata": {},
   "outputs": [
    {
     "name": "stdout",
     "output_type": "stream",
     "text": [
      "\n",
      "Example from PDF:\n",
      "Neuron 1: Weights = [2, -2, 2], Threshold = 3\n",
      "Neuron 2: Weights = [-2, 0, 2], Threshold = 2\n",
      "\n",
      "Output Neuron:\n",
      "Weights = [2, 2], Threshold = 1\n"
     ]
    }
   ],
   "source": [
    "print(\"\\nExample from PDF:\")\n",
    "for i, (w, t) in enumerate(zip(weights_ex, thresholds_ex), 1):\n",
    "    print(f\"Neuron {i}: Weights = {w}, Threshold = {t}\")\n",
    "\n",
    "print(\"\\nOutput Neuron:\")\n",
    "print(f\"Weights = {[2] * len(example_conjunctions)}, Threshold = 1\")"
   ]
  }
 ],
 "metadata": {
  "kernelspec": {
   "display_name": "Python 3",
   "language": "python",
   "name": "python3"
  },
  "language_info": {
   "codemirror_mode": {
    "name": "ipython",
    "version": 3
   },
   "file_extension": ".py",
   "mimetype": "text/x-python",
   "name": "python",
   "nbconvert_exporter": "python",
   "pygments_lexer": "ipython3",
   "version": "3.11.9"
  }
 },
 "nbformat": 4,
 "nbformat_minor": 2
}
